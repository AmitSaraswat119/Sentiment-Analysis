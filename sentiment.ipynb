{
 "cells": [
  {
   "cell_type": "code",
   "execution_count": 1,
   "metadata": {},
   "outputs": [],
   "source": [
    "from pyspark.ml.classification import LogisticRegression\n",
    "from pyspark.sql import SparkSession\n",
    "from pyspark.ml.feature import StopWordsRemover , HashingTF , Tokenizer\n",
    "from pyspark.sql.functions import split\n",
    "from pyspark.sql.types import *\n",
    "from pyspark.ml.classification import LogisticRegression \n",
    "from pyspark.sql import functions as f\n",
    "from pyspark.ml.evaluation import MulticlassClassificationEvaluator"
   ]
  },
  {
   "cell_type": "code",
   "execution_count": 2,
   "metadata": {},
   "outputs": [],
   "source": [
    "spark = SparkSession.builder.appName(\"Sentiment\").getOrCreate()"
   ]
  },
  {
   "cell_type": "code",
   "execution_count": 3,
   "metadata": {},
   "outputs": [
    {
     "data": {
      "text/plain": [
       "DataFrame[_c0: int, _c1: bigint, _c2: string, _c3: string, _c4: string, _c5: string]"
      ]
     },
     "execution_count": 3,
     "metadata": {},
     "output_type": "execute_result"
    }
   ],
   "source": [
    "data_1 = sc.textFile(\"amazon_cells_labelled.txt\")\n",
    "data_2 = sc.textFile(\"imdb_labelled.txt\")\n",
    "data_3 = sc.textFile(\"yelp_labelled.txt\")\n",
    "df_4  = spark.read.csv(\"tweets.csv\",header=False,inferSchema=True)\n",
    "df_4.cache()"
   ]
  },
  {
   "cell_type": "code",
   "execution_count": 4,
   "metadata": {},
   "outputs": [],
   "source": [
    "df_4 = df_4.withColumnRenamed(\"_c0\",\"label\")\n",
    "df_4 = df_4.withColumnRenamed(\"_c1\",\"ID\")\n",
    "df_4 = df_4.withColumnRenamed(\"_c2\",\"Date\")\n",
    "df_4 = df_4.withColumnRenamed(\"_c3\",\"Query\")\n",
    "df_4 = df_4.withColumnRenamed(\"_c4\",\"username\")\n",
    "df_4 = df_4.withColumnRenamed(\"_c5\",\"Tweets\")"
   ]
  },
  {
   "cell_type": "code",
   "execution_count": 5,
   "metadata": {},
   "outputs": [
    {
     "name": "stdout",
     "output_type": "stream",
     "text": [
      "+-----+----------+--------------------+--------+---------------+--------------------+\n",
      "|label|        ID|                Date|   Query|       username|              Tweets|\n",
      "+-----+----------+--------------------+--------+---------------+--------------------+\n",
      "|    0|1467810369|Mon Apr 06 22:19:...|NO_QUERY|_TheSpecialOne_|@switchfoot http:...|\n",
      "|    0|1467810672|Mon Apr 06 22:19:...|NO_QUERY|  scotthamilton|is upset that he ...|\n",
      "|    0|1467810917|Mon Apr 06 22:19:...|NO_QUERY|       mattycus|@Kenichan I dived...|\n",
      "|    0|1467811184|Mon Apr 06 22:19:...|NO_QUERY|        ElleCTF|my whole body fee...|\n",
      "|    0|1467811193|Mon Apr 06 22:19:...|NO_QUERY|         Karoli|@nationwideclass ...|\n",
      "|    0|1467811372|Mon Apr 06 22:20:...|NO_QUERY|       joy_wolf|@Kwesidei not the...|\n",
      "|    0|1467811592|Mon Apr 06 22:20:...|NO_QUERY|        mybirch|         Need a hug |\n",
      "|    0|1467811594|Mon Apr 06 22:20:...|NO_QUERY|           coZZ|@LOLTrish hey  lo...|\n",
      "|    0|1467811795|Mon Apr 06 22:20:...|NO_QUERY|2Hood4Hollywood|@Tatiana_K nope t...|\n",
      "|    0|1467812025|Mon Apr 06 22:20:...|NO_QUERY|        mimismo|@twittera que me ...|\n",
      "+-----+----------+--------------------+--------+---------------+--------------------+\n",
      "only showing top 10 rows\n",
      "\n"
     ]
    }
   ],
   "source": [
    "df_4.show(10)"
   ]
  },
  {
   "cell_type": "code",
   "execution_count": 6,
   "metadata": {},
   "outputs": [],
   "source": [
    "rec_data=df_4.select(\"label\",\"Tweets\")"
   ]
  },
  {
   "cell_type": "code",
   "execution_count": 7,
   "metadata": {
    "scrolled": true
   },
   "outputs": [],
   "source": [
    "positive = rec_data.select(\"*\").filter(rec_data[\"label\"]==4)\n",
    "negative = rec_data.select(\"*\").filter(rec_data[\"label\"]==0)\n",
    "#negative.repartition(1).write.csv(\"negative\" , sep='|')\n",
    "#positive.repartition(1).write.csv(\"positive.csv\", sep='|')\n"
   ]
  },
  {
   "cell_type": "code",
   "execution_count": 8,
   "metadata": {},
   "outputs": [
    {
     "name": "stdout",
     "output_type": "stream",
     "text": [
      "+--------------------+-----+\n",
      "|           statement|label|\n",
      "+--------------------+-----+\n",
      "|I LOVE @Health4Ua...|    1|\n",
      "|im meeting up wit...|    1|\n",
      "|@DaRealSunisaKim ...|    1|\n",
      "|Being sick can be...|    1|\n",
      "|@LovesBrooklyn2 h...|    1|\n",
      "|@ProductOfFear Yo...|    1|\n",
      "|@r_keith_hill Tha...|    1|\n",
      "|@KeepinUpWKris I ...|    1|\n",
      "|@tommcfly ah, con...|    1|\n",
      "|@e4VoIP I RESPOND...|    1|\n",
      "|crazy day of scho...|    1|\n",
      "|@naughtyhaughty H...|    1|\n",
      "|@nileyjileyluver ...|    1|\n",
      "|@soundwav2010 At ...|    1|\n",
      "|@LutheranLucciol ...|    1|\n",
      "|Just added tweeti...|    1|\n",
      "|@michellardi i re...|    1|\n",
      "|@nicolerichie: yo...|    1|\n",
      "|Catching Up on Em...|    1|\n",
      "|Dancing around th...|    1|\n",
      "+--------------------+-----+\n",
      "only showing top 20 rows\n",
      "\n",
      "+--------------------+-----+\n",
      "|           statement|label|\n",
      "+--------------------+-----+\n",
      "|@switchfoot http:...|    0|\n",
      "|is upset that he ...|    0|\n",
      "|@Kenichan I dived...|    0|\n",
      "|my whole body fee...|    0|\n",
      "|@nationwideclass ...|    0|\n",
      "|@Kwesidei not the...|    0|\n",
      "|         Need a hug |    0|\n",
      "|@LOLTrish hey  lo...|    0|\n",
      "|@Tatiana_K nope t...|    0|\n",
      "|@twittera que me ...|    0|\n",
      "|spring break in p...|    0|\n",
      "|I just re-pierced...|    0|\n",
      "|@caregiving I cou...|    0|\n",
      "|@octolinz16 It it...|    0|\n",
      "|@smarrison i woul...|    0|\n",
      "|@iamjazzyfizzle I...|    0|\n",
      "|Hollis' death sce...|    0|\n",
      "|about to file taxes |    0|\n",
      "|@LettyA ahh ive a...|    0|\n",
      "|@FakerPattyPattz ...|    0|\n",
      "+--------------------+-----+\n",
      "only showing top 20 rows\n",
      "\n"
     ]
    }
   ],
   "source": [
    "positive = positive.withColumnRenamed(\"tweets\",\"statement\")\n",
    "negative = negative.withColumnRenamed(\"tweets\",\"statement\")\n",
    "positive = positive.select(\"statement\" , f.when(positive[\"label\"]==4 , 1).otherwise(0))\n",
    "positive = positive.withColumnRenamed(\"CASE WHEN (label = 4) THEN 1 ELSE 0 END\",\"label\")\n",
    "negative = negative.select(\"statement\" , f.when(negative[\"label\"]==0 , 0).otherwise(1))\n",
    "negative = negative.withColumnRenamed(\"CASE WHEN (label = 0) THEN 0 ELSE 1 END\",\"label\")\n",
    "positive.show()\n",
    "negative.show()"
   ]
  },
  {
   "cell_type": "code",
   "execution_count": 9,
   "metadata": {},
   "outputs": [],
   "source": [
    "data_1 = data_1.map(lambda x:x.split(\"\\t\"))\n",
    "data_2=data_2.map(lambda x:x.split(\"\\t\"))\n",
    "data_3=data_3.map(lambda x:x.split(\"\\t\"))"
   ]
  },
  {
   "cell_type": "code",
   "execution_count": 10,
   "metadata": {},
   "outputs": [
    {
     "data": {
      "text/plain": [
       "[['Wow... Loved this place.', '1']]"
      ]
     },
     "execution_count": 10,
     "metadata": {},
     "output_type": "execute_result"
    }
   ],
   "source": [
    "data_1.take(1)\n",
    "data_2.take(1)\n",
    "data_3.take(1)"
   ]
  },
  {
   "cell_type": "code",
   "execution_count": 11,
   "metadata": {},
   "outputs": [],
   "source": [
    "df_1 = data_1.toDF()\n",
    "df_2 = data_2.toDF()\n",
    "df_3 = data_3.toDF()"
   ]
  },
  {
   "cell_type": "code",
   "execution_count": 12,
   "metadata": {},
   "outputs": [
    {
     "name": "stdout",
     "output_type": "stream",
     "text": [
      "+--------------------+---+\n",
      "|                  _1| _2|\n",
      "+--------------------+---+\n",
      "|So there is no wa...|  0|\n",
      "|Good case, Excell...|  1|\n",
      "|Great for the jaw...|  1|\n",
      "|Tied to charger f...|  0|\n",
      "|   The mic is great.|  1|\n",
      "|I have to jiggle ...|  0|\n",
      "|If you have sever...|  0|\n",
      "|If you are Razr o...|  1|\n",
      "|Needless to say, ...|  0|\n",
      "|What a waste of m...|  0|\n",
      "|And the sound qua...|  1|\n",
      "|He was very impre...|  1|\n",
      "|If the two were s...|  0|\n",
      "|Very good quality...|  1|\n",
      "|The design is ver...|  0|\n",
      "|Highly recommend ...|  1|\n",
      "|I advise EVERYONE...|  0|\n",
      "|    So Far So Good!.|  1|\n",
      "|       Works great!.|  1|\n",
      "|It clicks into pl...|  0|\n",
      "+--------------------+---+\n",
      "only showing top 20 rows\n",
      "\n",
      "+--------------------+---+\n",
      "|                  _1| _2|\n",
      "+--------------------+---+\n",
      "|A very, very, ver...|  0|\n",
      "|Not sure who was ...|  0|\n",
      "|Attempting artine...|  0|\n",
      "|Very little music...|  0|\n",
      "|The best scene in...|  1|\n",
      "|The rest of the m...|  0|\n",
      "| Wasted two hours.  |  0|\n",
      "|Saw the movie tod...|  1|\n",
      "|A bit predictable.  |  0|\n",
      "|Loved the casting...|  1|\n",
      "|And those baby ow...|  1|\n",
      "|The movie showed ...|  1|\n",
      "|The Songs Were Th...|  1|\n",
      "|   It Was So Cool.  |  1|\n",
      "|This is a very \"r...|  1|\n",
      "|It had some avera...|  0|\n",
      "|This review is lo...|  1|\n",
      "|I'll put this gem...|  1|\n",
      "|It's practically ...|  1|\n",
      "|\" The structure o...|  1|\n",
      "+--------------------+---+\n",
      "only showing top 20 rows\n",
      "\n",
      "+--------------------+---+\n",
      "|                  _1| _2|\n",
      "+--------------------+---+\n",
      "|Wow... Loved this...|  1|\n",
      "|  Crust is not good.|  0|\n",
      "|Not tasty and the...|  0|\n",
      "|Stopped by during...|  1|\n",
      "|The selection on ...|  1|\n",
      "|Now I am getting ...|  0|\n",
      "|Honeslty it didn'...|  0|\n",
      "|The potatoes were...|  0|\n",
      "|The fries were gr...|  1|\n",
      "|      A great touch.|  1|\n",
      "|Service was very ...|  1|\n",
      "|  Would not go back.|  0|\n",
      "|The cashier had n...|  0|\n",
      "|I tried the Cape ...|  1|\n",
      "|I was disgusted b...|  0|\n",
      "|I was shocked bec...|  0|\n",
      "| Highly recommended.|  1|\n",
      "|Waitress was a li...|  0|\n",
      "|This place is not...|  0|\n",
      "|did not like at all.|  0|\n",
      "+--------------------+---+\n",
      "only showing top 20 rows\n",
      "\n"
     ]
    }
   ],
   "source": [
    "df_1.show()\n",
    "df_2.show()\n",
    "df_3.show()"
   ]
  },
  {
   "cell_type": "code",
   "execution_count": 13,
   "metadata": {},
   "outputs": [],
   "source": [
    "df = df_1.union(df_2)"
   ]
  },
  {
   "cell_type": "code",
   "execution_count": 14,
   "metadata": {},
   "outputs": [],
   "source": [
    "df = df.union(df_3)"
   ]
  },
  {
   "cell_type": "code",
   "execution_count": 15,
   "metadata": {},
   "outputs": [],
   "source": [
    "df = df.union(positive)"
   ]
  },
  {
   "cell_type": "code",
   "execution_count": 16,
   "metadata": {},
   "outputs": [],
   "source": [
    "df = df.union(negative)"
   ]
  },
  {
   "cell_type": "code",
   "execution_count": 17,
   "metadata": {},
   "outputs": [
    {
     "data": {
      "text/plain": [
       "1603000"
      ]
     },
     "execution_count": 17,
     "metadata": {},
     "output_type": "execute_result"
    }
   ],
   "source": [
    "df.count()"
   ]
  },
  {
   "cell_type": "code",
   "execution_count": 18,
   "metadata": {},
   "outputs": [],
   "source": [
    "df = df.withColumnRenamed(\"_1\",\"statement\")\n",
    "df=df.withColumnRenamed(\"_2\",\"label\")\n",
    "df = df.withColumn(\"label\" , df[\"label\"].cast(IntegerType()))"
   ]
  },
  {
   "cell_type": "code",
   "execution_count": 19,
   "metadata": {},
   "outputs": [
    {
     "data": {
      "text/plain": [
       "<bound method DataFrame.printSchema of DataFrame[statement: string, label: int]>"
      ]
     },
     "execution_count": 19,
     "metadata": {},
     "output_type": "execute_result"
    }
   ],
   "source": [
    "df.printSchema"
   ]
  },
  {
   "cell_type": "code",
   "execution_count": 26,
   "metadata": {},
   "outputs": [
    {
     "name": "stdout",
     "output_type": "stream",
     "text": [
      "+--------------------+-----+\n",
      "|           statement|label|\n",
      "+--------------------+-----+\n",
      "|So there is no wa...|    0|\n",
      "|Good case, Excell...|    1|\n",
      "|Great for the jaw...|    1|\n",
      "|Tied to charger f...|    0|\n",
      "|   The mic is great.|    1|\n",
      "|I have to jiggle ...|    0|\n",
      "|If you have sever...|    0|\n",
      "|If you are Razr o...|    1|\n",
      "|Needless to say, ...|    0|\n",
      "|What a waste of m...|    0|\n",
      "|And the sound qua...|    1|\n",
      "|He was very impre...|    1|\n",
      "|If the two were s...|    0|\n",
      "|Very good quality...|    1|\n",
      "|The design is ver...|    0|\n",
      "|Highly recommend ...|    1|\n",
      "|I advise EVERYONE...|    0|\n",
      "|    So Far So Good!.|    1|\n",
      "|       Works great!.|    1|\n",
      "|It clicks into pl...|    0|\n",
      "+--------------------+-----+\n",
      "only showing top 20 rows\n",
      "\n"
     ]
    }
   ],
   "source": [
    "df.show()"
   ]
  },
  {
   "cell_type": "code",
   "execution_count": 21,
   "metadata": {},
   "outputs": [],
   "source": [
    "token = Tokenizer(inputCol = \"statement\",outputCol=\"words\")\n",
    "s_rem = StopWordsRemover(inputCol=token.getOutputCol(),outputCol=\"filtered\")\n",
    "tf = HashingTF(inputCol=s_rem.getOutputCol(),outputCol = \"features\")\n",
    "rec_data = token.transform(df)\n",
    "rec_data = s_rem.transform(rec_data)\n",
    "rec_data = tf.transform(rec_data)"
   ]
  },
  {
   "cell_type": "code",
   "execution_count": 22,
   "metadata": {},
   "outputs": [
    {
     "name": "stdout",
     "output_type": "stream",
     "text": [
      "+--------------------+-----+--------------------+--------------------+--------------------+\n",
      "|           statement|label|               words|            filtered|            features|\n",
      "+--------------------+-----+--------------------+--------------------+--------------------+\n",
      "|So there is no wa...|    0|[so, there, is, n...|[way, plug, us, u...|(262144,[21872,61...|\n",
      "|Good case, Excell...|    1|[good, case,, exc...|[good, case,, exc...|(262144,[113432,1...|\n",
      "|Great for the jaw...|    1|[great, for, the,...|   [great, jawbone.]|(262144,[138356,2...|\n",
      "|Tied to charger f...|    0|[tied, to, charge...|[tied, charger, c...|(262144,[22836,35...|\n",
      "|   The mic is great.|    1|[the, mic, is, gr...|       [mic, great.]|(262144,[52197,80...|\n",
      "|I have to jiggle ...|    0|[i, have, to, jig...|[jiggle, plug, ge...|(262144,[99895,11...|\n",
      "|If you have sever...|    0|[if, you, have, s...|[several, dozen, ...|(262144,[8443,829...|\n",
      "|If you are Razr o...|    1|[if, you, are, ra...|[razr, owner...yo...|(262144,[80023,17...|\n",
      "|Needless to say, ...|    0|[needless, to, sa...|[needless, say,, ...|(262144,[15514,16...|\n",
      "|What a waste of m...|    0|[what, a, waste, ...|[waste, money, ti...|(262144,[154554,2...|\n",
      "|And the sound qua...|    1|[and, the, sound,...|[sound, quality, ...|(262144,[13381,52...|\n",
      "|He was very impre...|    1|[he, was, very, i...|[impressed, going...|(262144,[65435,93...|\n",
      "|If the two were s...|    0|[if, the, two, we...|[two, seperated, ...|(262144,[12304,13...|\n",
      "|Very good quality...|    1|[very, good, qual...|[good, quality, t...|(262144,[113432,1...|\n",
      "|The design is ver...|    0|[the, design, is,...|[design, odd,, ea...|(262144,[8287,989...|\n",
      "|Highly recommend ...|    1|[highly, recommen...|[highly, recommen...|(262144,[27545,31...|\n",
      "|I advise EVERYONE...|    0|[i, advise, every...|[advise, everyone...|(262144,[33799,37...|\n",
      "|    So Far So Good!.|    1|[so, far, so, goo...|       [far, good!.]|(262144,[28282,18...|\n",
      "|       Works great!.|    1|    [works, great!.]|    [works, great!.]|(262144,[12888,86...|\n",
      "|It clicks into pl...|    0|[it, clicks, into...|[clicks, place, w...|(262144,[27956,58...|\n",
      "+--------------------+-----+--------------------+--------------------+--------------------+\n",
      "only showing top 20 rows\n",
      "\n"
     ]
    }
   ],
   "source": [
    "rec_data.show()"
   ]
  },
  {
   "cell_type": "code",
   "execution_count": 23,
   "metadata": {},
   "outputs": [],
   "source": [
    "val_data = rec_data.select(\"label\",\"features\")"
   ]
  },
  {
   "cell_type": "code",
   "execution_count": 24,
   "metadata": {},
   "outputs": [],
   "source": [
    "train , test = val_data.randomSplit([0.8,0.2])\n"
   ]
  },
  {
   "cell_type": "code",
   "execution_count": 25,
   "metadata": {},
   "outputs": [
    {
     "name": "stdout",
     "output_type": "stream",
     "text": [
      "+-----+--------------------+\n",
      "|label|            features|\n",
      "+-----+--------------------+\n",
      "|    0|(262144,[14,13381...|\n",
      "|    0|(262144,[14,24095...|\n",
      "|    0|(262144,[14,58236...|\n",
      "|    0|(262144,[925,3000...|\n",
      "|    0|(262144,[1145,362...|\n",
      "|    0|(262144,[1846,490...|\n",
      "|    0|(262144,[2362,212...|\n",
      "|    0|(262144,[2437,470...|\n",
      "|    0|(262144,[2711,300...|\n",
      "|    0|(262144,[2937,330...|\n",
      "|    0|(262144,[3114,936...|\n",
      "|    0|(262144,[3121,362...|\n",
      "|    0|(262144,[4799,102...|\n",
      "|    0|(262144,[5381,112...|\n",
      "|    0|(262144,[5765,121...|\n",
      "|    0|(262144,[5765,335...|\n",
      "|    0|(262144,[6782,304...|\n",
      "|    0|(262144,[7290,154...|\n",
      "|    0|(262144,[8154,697...|\n",
      "|    0|(262144,[8217,790...|\n",
      "+-----+--------------------+\n",
      "only showing top 20 rows\n",
      "\n"
     ]
    }
   ],
   "source": [
    "train.show()"
   ]
  },
  {
   "cell_type": "code",
   "execution_count": 27,
   "metadata": {},
   "outputs": [],
   "source": [
    "lr =LogisticRegression()\n",
    "model = lr.fit(train)"
   ]
  },
  {
   "cell_type": "code",
   "execution_count": 28,
   "metadata": {},
   "outputs": [],
   "source": [
    "pred = model.transform(test)"
   ]
  },
  {
   "cell_type": "code",
   "execution_count": 29,
   "metadata": {},
   "outputs": [],
   "source": [
    "predi = pred.select(\"label\",\"prediction\" , f.when(pred[\"prediction\"]==1.0 , \"Positive\").otherwise(\"Negative\"))"
   ]
  },
  {
   "cell_type": "code",
   "execution_count": 30,
   "metadata": {},
   "outputs": [],
   "source": [
    "predi = predi.withColumnRenamed(\"CASE WHEN (prediction = 1.0) THEN Positive ELSE Negative END\" , \"Predicted Review(positive/negative)\")"
   ]
  },
  {
   "cell_type": "code",
   "execution_count": 31,
   "metadata": {},
   "outputs": [
    {
     "name": "stdout",
     "output_type": "stream",
     "text": [
      "+-----+----------+-----------------------------------+\n",
      "|label|prediction|Predicted Review(positive/negative)|\n",
      "+-----+----------+-----------------------------------+\n",
      "|    0|       0.0|                           Negative|\n",
      "|    0|       0.0|                           Negative|\n",
      "|    0|       1.0|                           Positive|\n",
      "|    0|       0.0|                           Negative|\n",
      "|    0|       0.0|                           Negative|\n",
      "|    0|       1.0|                           Positive|\n",
      "|    0|       1.0|                           Positive|\n",
      "|    0|       0.0|                           Negative|\n",
      "|    0|       0.0|                           Negative|\n",
      "|    0|       0.0|                           Negative|\n",
      "|    0|       0.0|                           Negative|\n",
      "|    0|       1.0|                           Positive|\n",
      "|    0|       0.0|                           Negative|\n",
      "|    0|       1.0|                           Positive|\n",
      "|    0|       0.0|                           Negative|\n",
      "|    0|       0.0|                           Negative|\n",
      "|    0|       0.0|                           Negative|\n",
      "|    0|       0.0|                           Negative|\n",
      "|    0|       1.0|                           Positive|\n",
      "|    0|       0.0|                           Negative|\n",
      "+-----+----------+-----------------------------------+\n",
      "only showing top 20 rows\n",
      "\n",
      "+-----+--------------------+--------------------+--------------------+----------+\n",
      "|label|            features|       rawPrediction|         probability|prediction|\n",
      "+-----+--------------------+--------------------+--------------------+----------+\n",
      "|    0|(262144,[14,28990...|[13.0487402222563...|[0.99999784720244...|       0.0|\n",
      "|    0|(262144,[14,46252...|[3.58273611259574...|[0.97295237971669...|       0.0|\n",
      "|    0|(262144,[14,96984...|[-0.5286139671810...|[0.37084021615781...|       1.0|\n",
      "|    0|(262144,[2711,154...|[1.25884151917335...|[0.77882661729461...|       0.0|\n",
      "|    0|(262144,[3539,287...|[6.12710049763564...|[0.99782185355772...|       0.0|\n",
      "|    0|(262144,[4089,174...|[-7.9200656757783...|[3.63246464607010...|       1.0|\n",
      "|    0|(262144,[4200,767...|[-0.6501784389483...|[0.34294932764394...|       1.0|\n",
      "|    0|(262144,[4442],[1...|[3.92404403958206...|[0.98062191215765...|       0.0|\n",
      "|    0|(262144,[5125,168...|[2.52921444836312...|[0.92616465245916...|       0.0|\n",
      "|    0|(262144,[5381,166...|[0.81977184756771...|[0.69418790753311...|       0.0|\n",
      "|    0|(262144,[6281,133...|[1.74722127034713...|[0.85160198007854...|       0.0|\n",
      "|    0|(262144,[6281,133...|[-1.8339735898680...|[0.13776558566545...|       1.0|\n",
      "|    0|(262144,[7388,130...|[0.49123894581746...|[0.62039825285452...|       0.0|\n",
      "|    0|(262144,[9627,341...|[-2.5230205481882...|[0.07426002892436...|       1.0|\n",
      "|    0|(262144,[13471,28...|[1.62833835693059...|[0.83594188316532...|       0.0|\n",
      "|    0|(262144,[14387,15...|[1.67351675972167...|[0.84204413347721...|       0.0|\n",
      "|    0|(262144,[15664,27...|[4.41191451562080...|[0.98801349017636...|       0.0|\n",
      "|    0|(262144,[17766,57...|[3.44896832927157...|[0.96920035911904...|       0.0|\n",
      "|    0|(262144,[19247,93...|[-1.2847932520197...|[0.21673541073501...|       1.0|\n",
      "|    0|(262144,[19574,34...|[0.71946969466129...|[0.67249022952939...|       0.0|\n",
      "+-----+--------------------+--------------------+--------------------+----------+\n",
      "only showing top 20 rows\n",
      "\n"
     ]
    }
   ],
   "source": [
    "predi.show()\n",
    "pred.show()"
   ]
  },
  {
   "cell_type": "code",
   "execution_count": 32,
   "metadata": {},
   "outputs": [],
   "source": [
    "evalu = MulticlassClassificationEvaluator(labelCol=\"label\" , predictionCol=\"prediction\",metricName=\"accuracy\")\n",
    "acc = evalu.evaluate(pred)"
   ]
  },
  {
   "cell_type": "code",
   "execution_count": 33,
   "metadata": {
    "scrolled": true
   },
   "outputs": [
    {
     "name": "stdout",
     "output_type": "stream",
     "text": [
      "0.7171360584845424\n"
     ]
    }
   ],
   "source": [
    "print(acc)"
   ]
  },
  {
   "cell_type": "code",
   "execution_count": 58,
   "metadata": {},
   "outputs": [
    {
     "name": "stdout",
     "output_type": "stream",
     "text": [
      "Please Enter the Review:i'l pry frm gd tht u remain sick\n"
     ]
    }
   ],
   "source": [
    "review = [input(\"Please Enter the Review:\")]"
   ]
  },
  {
   "cell_type": "code",
   "execution_count": 59,
   "metadata": {},
   "outputs": [],
   "source": [
    "def user_in(review):\n",
    "    tst_df = spark.createDataFrame([(review)],[\"statement\"])\n",
    "    token = Tokenizer(inputCol = \"statement\",outputCol=\"words\")\n",
    "    s_rem = StopWordsRemover(inputCol=token.getOutputCol(),outputCol=\"filtered\")\n",
    "    tf = HashingTF(inputCol=s_rem.getOutputCol(),outputCol = \"features\")\n",
    "    tst_data = token.transform(tst_df)\n",
    "    tst_data = s_rem.transform(tst_data)\n",
    "    tst_data = tf.transform(tst_data)\n",
    "    return tst_data"
   ]
  },
  {
   "cell_type": "code",
   "execution_count": 60,
   "metadata": {},
   "outputs": [],
   "source": [
    "tst = user_in(review)"
   ]
  },
  {
   "cell_type": "code",
   "execution_count": 61,
   "metadata": {},
   "outputs": [],
   "source": [
    "tst_pred=model.transform(tst)"
   ]
  },
  {
   "cell_type": "code",
   "execution_count": 62,
   "metadata": {},
   "outputs": [],
   "source": [
    "tst_res=tst_pred.select(\"prediction\",f.when(tst_pred[\"prediction\"]==1.0,\"Positive review\").otherwise(\"Negative Review\"))"
   ]
  },
  {
   "cell_type": "code",
   "execution_count": 63,
   "metadata": {},
   "outputs": [],
   "source": [
    "tst_res=tst_res.withColumnRenamed(\"CASE WHEN (prediction = 1.0) THEN Positive review ELSE Negative Review END\" ,\"Review\")"
   ]
  },
  {
   "cell_type": "code",
   "execution_count": 64,
   "metadata": {},
   "outputs": [],
   "source": [
    "tst_res=tst_res.select(\"Review\")"
   ]
  },
  {
   "cell_type": "code",
   "execution_count": 65,
   "metadata": {},
   "outputs": [
    {
     "name": "stdout",
     "output_type": "stream",
     "text": [
      "+---------------+\n",
      "|         Review|\n",
      "+---------------+\n",
      "|Negative Review|\n",
      "+---------------+\n",
      "\n"
     ]
    }
   ],
   "source": [
    "tst_res.show()"
   ]
  },
  {
   "cell_type": "code",
   "execution_count": null,
   "metadata": {},
   "outputs": [],
   "source": []
  }
 ],
 "metadata": {
  "kernelspec": {
   "display_name": "Python 3",
   "language": "python",
   "name": "python3"
  },
  "language_info": {
   "codemirror_mode": {
    "name": "ipython",
    "version": 3
   },
   "file_extension": ".py",
   "mimetype": "text/x-python",
   "name": "python",
   "nbconvert_exporter": "python",
   "pygments_lexer": "ipython3",
   "version": "3.7.6"
  }
 },
 "nbformat": 4,
 "nbformat_minor": 2
}
